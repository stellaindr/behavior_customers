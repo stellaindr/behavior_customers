{
 "cells": [
  {
   "cell_type": "markdown",
   "id": "553dbe77",
   "metadata": {
    "id": "553dbe77"
   },
   "source": [
    "Author: Stella Indranawaski"
   ]
  },
  {
   "cell_type": "markdown",
   "id": "abf05cad",
   "metadata": {
    "id": "abf05cad"
   },
   "source": [
    "# Import Libraries"
   ]
  },
  {
   "cell_type": "code",
   "execution_count": 7,
   "id": "eK_2pp04_scy",
   "metadata": {
    "id": "eK_2pp04_scy"
   },
   "outputs": [],
   "source": [
    "import numpy as np\n",
    "import pandas as pd\n",
    "import matplotlib.pyplot as plt\n",
    "import seaborn as sns"
   ]
  },
  {
   "cell_type": "markdown",
   "id": "baa49998",
   "metadata": {
    "id": "baa49998"
   },
   "source": [
    "# Load Dataset"
   ]
  },
  {
   "cell_type": "code",
   "execution_count": 8,
   "id": "bc091ff6",
   "metadata": {
    "id": "bc091ff6"
   },
   "outputs": [],
   "source": [
    "df = pd.read_csv('loan_customer.csv')"
   ]
  },
  {
   "cell_type": "code",
   "execution_count": 9,
   "id": "VKRtG9-eA0Bz",
   "metadata": {
    "colab": {
     "base_uri": "https://localhost:8080/"
    },
    "id": "VKRtG9-eA0Bz",
    "outputId": "19123d92-f6f4-49ac-a801-1e18cc0eaf05"
   },
   "outputs": [
    {
     "name": "stdout",
     "output_type": "stream",
     "text": [
      "<class 'pandas.core.frame.DataFrame'>\n",
      "RangeIndex: 621 entries, 0 to 620\n",
      "Data columns (total 17 columns):\n",
      " #   Column              Non-Null Count  Dtype  \n",
      "---  ------              --------------  -----  \n",
      " 0   loan_id             621 non-null    object \n",
      " 1   birth_date          572 non-null    object \n",
      " 2   phone_number        569 non-null    float64\n",
      " 3   gender              608 non-null    object \n",
      " 4   married             618 non-null    object \n",
      " 5   dependents          605 non-null    object \n",
      " 6   education           620 non-null    object \n",
      " 7   self_employed       588 non-null    object \n",
      " 8   applicant_income    612 non-null    float64\n",
      " 9   coapplicant_income  621 non-null    float64\n",
      " 10  loan_amount         621 non-null    int64  \n",
      " 11  loan_term_month     621 non-null    int64  \n",
      " 12  loan_term_year      621 non-null    int64  \n",
      " 13  credit_history      570 non-null    float64\n",
      " 14  has_credit_card     88 non-null     object \n",
      " 15  property_type       620 non-null    object \n",
      " 16  loan_status         621 non-null    object \n",
      "dtypes: float64(4), int64(3), object(10)\n",
      "memory usage: 82.6+ KB\n"
     ]
    }
   ],
   "source": [
    "df.info()"
   ]
  },
  {
   "cell_type": "markdown",
   "id": "BG1TqxlWjho1",
   "metadata": {
    "id": "BG1TqxlWjho1"
   },
   "source": []
  },
  {
   "cell_type": "code",
   "execution_count": 10,
   "id": "3Y4Ab8V7NiIp",
   "metadata": {
    "colab": {
     "base_uri": "https://localhost:8080/",
     "height": 287
    },
    "id": "3Y4Ab8V7NiIp",
    "outputId": "daadfc59-5e19-454a-f634-c4d61fc75cec"
   },
   "outputs": [
    {
     "data": {
      "text/html": [
       "<div>\n",
       "<style scoped>\n",
       "    .dataframe tbody tr th:only-of-type {\n",
       "        vertical-align: middle;\n",
       "    }\n",
       "\n",
       "    .dataframe tbody tr th {\n",
       "        vertical-align: top;\n",
       "    }\n",
       "\n",
       "    .dataframe thead th {\n",
       "        text-align: right;\n",
       "    }\n",
       "</style>\n",
       "<table border=\"1\" class=\"dataframe\">\n",
       "  <thead>\n",
       "    <tr style=\"text-align: right;\">\n",
       "      <th></th>\n",
       "      <th>loan_id</th>\n",
       "      <th>birth_date</th>\n",
       "      <th>phone_number</th>\n",
       "      <th>gender</th>\n",
       "      <th>married</th>\n",
       "      <th>dependents</th>\n",
       "      <th>education</th>\n",
       "      <th>self_employed</th>\n",
       "      <th>applicant_income</th>\n",
       "      <th>coapplicant_income</th>\n",
       "      <th>loan_amount</th>\n",
       "      <th>loan_term_month</th>\n",
       "      <th>loan_term_year</th>\n",
       "      <th>credit_history</th>\n",
       "      <th>has_credit_card</th>\n",
       "      <th>property_type</th>\n",
       "      <th>loan_status</th>\n",
       "    </tr>\n",
       "  </thead>\n",
       "  <tbody>\n",
       "    <tr>\n",
       "      <th>0</th>\n",
       "      <td>LP001002</td>\n",
       "      <td>1977-05-15</td>\n",
       "      <td>6.281142e+11</td>\n",
       "      <td>Male</td>\n",
       "      <td>No</td>\n",
       "      <td>0</td>\n",
       "      <td>Graduate</td>\n",
       "      <td>No</td>\n",
       "      <td>5849.0</td>\n",
       "      <td>0.0</td>\n",
       "      <td>100000</td>\n",
       "      <td>360</td>\n",
       "      <td>30</td>\n",
       "      <td>1.0</td>\n",
       "      <td>NaN</td>\n",
       "      <td>house</td>\n",
       "      <td>APPROVE</td>\n",
       "    </tr>\n",
       "    <tr>\n",
       "      <th>1</th>\n",
       "      <td>LP001003</td>\n",
       "      <td>1979-08-24</td>\n",
       "      <td>6.287764e+11</td>\n",
       "      <td>Male</td>\n",
       "      <td>Yes</td>\n",
       "      <td>1</td>\n",
       "      <td>Graduate</td>\n",
       "      <td>No</td>\n",
       "      <td>4583.0</td>\n",
       "      <td>1508.0</td>\n",
       "      <td>128000</td>\n",
       "      <td>360</td>\n",
       "      <td>30</td>\n",
       "      <td>1.0</td>\n",
       "      <td>NaN</td>\n",
       "      <td>studio</td>\n",
       "      <td>REJECT</td>\n",
       "    </tr>\n",
       "    <tr>\n",
       "      <th>2</th>\n",
       "      <td>LP001005</td>\n",
       "      <td>1991-03-28</td>\n",
       "      <td>6.281192e+11</td>\n",
       "      <td>Male</td>\n",
       "      <td>Yes</td>\n",
       "      <td>0</td>\n",
       "      <td>Graduate</td>\n",
       "      <td>Yes</td>\n",
       "      <td>3000.0</td>\n",
       "      <td>0.0</td>\n",
       "      <td>66000</td>\n",
       "      <td>360</td>\n",
       "      <td>30</td>\n",
       "      <td>1.0</td>\n",
       "      <td>NaN</td>\n",
       "      <td>house</td>\n",
       "      <td>APPROVE</td>\n",
       "    </tr>\n",
       "    <tr>\n",
       "      <th>3</th>\n",
       "      <td>LP001006</td>\n",
       "      <td>1980-06-02</td>\n",
       "      <td>6.285634e+10</td>\n",
       "      <td>Male</td>\n",
       "      <td>Yes</td>\n",
       "      <td>0</td>\n",
       "      <td>Not Graduate</td>\n",
       "      <td>No</td>\n",
       "      <td>2583.0</td>\n",
       "      <td>2358.0</td>\n",
       "      <td>120000</td>\n",
       "      <td>360</td>\n",
       "      <td>30</td>\n",
       "      <td>1.0</td>\n",
       "      <td>NaN</td>\n",
       "      <td>house</td>\n",
       "      <td>APPROVE</td>\n",
       "    </tr>\n",
       "    <tr>\n",
       "      <th>4</th>\n",
       "      <td>LP001008</td>\n",
       "      <td>1989-05-19</td>\n",
       "      <td>6.281130e+11</td>\n",
       "      <td>Male</td>\n",
       "      <td>No</td>\n",
       "      <td>0</td>\n",
       "      <td>Graduate</td>\n",
       "      <td>No</td>\n",
       "      <td>6000.0</td>\n",
       "      <td>0.0</td>\n",
       "      <td>141000</td>\n",
       "      <td>360</td>\n",
       "      <td>30</td>\n",
       "      <td>1.0</td>\n",
       "      <td>NaN</td>\n",
       "      <td>house</td>\n",
       "      <td>APPROVE</td>\n",
       "    </tr>\n",
       "  </tbody>\n",
       "</table>\n",
       "</div>"
      ],
      "text/plain": [
       "    loan_id  birth_date  phone_number gender married dependents     education  \\\n",
       "0  LP001002  1977-05-15  6.281142e+11   Male      No          0      Graduate   \n",
       "1  LP001003  1979-08-24  6.287764e+11   Male     Yes          1      Graduate   \n",
       "2  LP001005  1991-03-28  6.281192e+11   Male     Yes          0      Graduate   \n",
       "3  LP001006  1980-06-02  6.285634e+10   Male     Yes          0  Not Graduate   \n",
       "4  LP001008  1989-05-19  6.281130e+11   Male      No          0      Graduate   \n",
       "\n",
       "  self_employed  applicant_income  coapplicant_income  loan_amount  \\\n",
       "0            No            5849.0                 0.0       100000   \n",
       "1            No            4583.0              1508.0       128000   \n",
       "2           Yes            3000.0                 0.0        66000   \n",
       "3            No            2583.0              2358.0       120000   \n",
       "4            No            6000.0                 0.0       141000   \n",
       "\n",
       "   loan_term_month  loan_term_year  credit_history has_credit_card  \\\n",
       "0              360              30             1.0             NaN   \n",
       "1              360              30             1.0             NaN   \n",
       "2              360              30             1.0             NaN   \n",
       "3              360              30             1.0             NaN   \n",
       "4              360              30             1.0             NaN   \n",
       "\n",
       "  property_type loan_status  \n",
       "0         house     APPROVE  \n",
       "1        studio      REJECT  \n",
       "2         house     APPROVE  \n",
       "3         house     APPROVE  \n",
       "4         house     APPROVE  "
      ]
     },
     "execution_count": 10,
     "metadata": {},
     "output_type": "execute_result"
    }
   ],
   "source": [
    "df.head()"
   ]
  },
  {
   "cell_type": "markdown",
   "id": "7c0e3893",
   "metadata": {
    "id": "7c0e3893"
   },
   "source": [
    "# Data Cleansing"
   ]
  },
  {
   "cell_type": "markdown",
   "id": "dc4032a4",
   "metadata": {
    "id": "dc4032a4"
   },
   "source": [
    "## Handling missing values"
   ]
  },
  {
   "cell_type": "code",
   "execution_count": 11,
   "id": "b2b5755e",
   "metadata": {
    "colab": {
     "base_uri": "https://localhost:8080/"
    },
    "id": "b2b5755e",
    "outputId": "b3192047-7817-4598-eea9-028d3155aa6c"
   },
   "outputs": [
    {
     "data": {
      "text/plain": [
       "loan_id                 0\n",
       "birth_date             49\n",
       "phone_number           52\n",
       "gender                 13\n",
       "married                 3\n",
       "dependents             16\n",
       "education               1\n",
       "self_employed          33\n",
       "applicant_income        9\n",
       "coapplicant_income      0\n",
       "loan_amount             0\n",
       "loan_term_month         0\n",
       "loan_term_year          0\n",
       "credit_history         51\n",
       "has_credit_card       533\n",
       "property_type           1\n",
       "loan_status             0\n",
       "dtype: int64"
      ]
     },
     "execution_count": 11,
     "metadata": {},
     "output_type": "execute_result"
    }
   ],
   "source": [
    "# jumlah entry NULL setiap kolom\n",
    "df.isna().sum()"
   ]
  },
  {
   "cell_type": "code",
   "execution_count": 12,
   "id": "du2nixTOBmsW",
   "metadata": {
    "id": "du2nixTOBmsW"
   },
   "outputs": [],
   "source": [
    "# drop baris yang missing values\n",
    "df = df.dropna()"
   ]
  },
  {
   "cell_type": "code",
   "execution_count": 13,
   "id": "Y1d_VbCVCAG6",
   "metadata": {
    "colab": {
     "base_uri": "https://localhost:8080/"
    },
    "id": "Y1d_VbCVCAG6",
    "outputId": "77cd2ed4-19a6-4ae8-fca9-35e76cf5ded1"
   },
   "outputs": [
    {
     "data": {
      "text/plain": [
       "loan_id               0\n",
       "birth_date            0\n",
       "phone_number          0\n",
       "gender                0\n",
       "married               0\n",
       "dependents            0\n",
       "education             0\n",
       "self_employed         0\n",
       "applicant_income      0\n",
       "coapplicant_income    0\n",
       "loan_amount           0\n",
       "loan_term_month       0\n",
       "loan_term_year        0\n",
       "credit_history        0\n",
       "has_credit_card       0\n",
       "property_type         0\n",
       "loan_status           0\n",
       "dtype: int64"
      ]
     },
     "execution_count": 13,
     "metadata": {},
     "output_type": "execute_result"
    }
   ],
   "source": [
    "#cek\n",
    "df.isna().sum()"
   ]
  },
  {
   "cell_type": "markdown",
   "id": "d75d760e",
   "metadata": {
    "id": "d75d760e"
   },
   "source": [
    "## Handling duplicated data"
   ]
  },
  {
   "cell_type": "code",
   "execution_count": 14,
   "id": "f040795a",
   "metadata": {
    "colab": {
     "base_uri": "https://localhost:8080/"
    },
    "id": "f040795a",
    "outputId": "370923cc-ce8a-46a2-dee5-6d8e99040722"
   },
   "outputs": [
    {
     "data": {
      "text/plain": [
       "0"
      ]
     },
     "execution_count": 14,
     "metadata": {},
     "output_type": "execute_result"
    }
   ],
   "source": [
    "# cek jumlah duplicated rows\n",
    "df.duplicated().sum()"
   ]
  },
  {
   "cell_type": "markdown",
   "id": "a73632f3",
   "metadata": {
    "id": "a73632f3"
   },
   "source": [
    "## Handling Outlier"
   ]
  },
  {
   "cell_type": "code",
   "execution_count": 16,
   "id": "dfbec136",
   "metadata": {
    "colab": {
     "base_uri": "https://localhost:8080/"
    },
    "id": "dfbec136",
    "outputId": "6aa32d20-b416-4da5-923a-d6a0618b112b"
   },
   "outputs": [
    {
     "name": "stdout",
     "output_type": "stream",
     "text": [
      "Jumlah baris sebelum memfilter outlier: 45\n",
      "Jumlah baris setelah memfilter outlier : 43\n"
     ]
    }
   ],
   "source": [
    "print(f'Jumlah baris sebelum memfilter outlier: {len(df)}')\n",
    "\n",
    "for col in ['applicant_income', 'coapplicant_income', 'loan_amount']:\n",
    "    Q1 = df[col].quantile(0.25)\n",
    "    Q3 = df[col].quantile(0.75)\n",
    "    IQR = Q3 - Q1\n",
    "    low_limit = Q1 - 1.5*IQR\n",
    "    high_limit = Q3 + 1.5*IQR\n",
    "    df = df[(df[col] >= low_limit) & (df[col] <= high_limit)]\n",
    "\n",
    "print(f'Jumlah baris setelah memfilter outlier : {len(df)}')"
   ]
  },
  {
   "cell_type": "markdown",
   "id": "659efbd3",
   "metadata": {
    "id": "659efbd3"
   },
   "source": [
    "## Feature Encoding"
   ]
  },
  {
   "cell_type": "code",
   "execution_count": 17,
   "id": "20e217a2",
   "metadata": {
    "id": "20e217a2"
   },
   "outputs": [],
   "source": [
    "# pengelompokan kolom\n",
    "nums = ['phone_number', 'applicant_income', 'coapplicant_income', 'loan_amount', 'loan_term_month', 'loan_term_year', 'credit_history']\n",
    "cats = ['loan_id', 'birth_date', 'gender', 'married', 'dependents', 'education', 'self_employed', 'has_credit_card', 'property_type', 'loan_status']"
   ]
  },
  {
   "cell_type": "code",
   "execution_count": 18,
   "id": "t0CrKFM5mpqi",
   "metadata": {
    "colab": {
     "base_uri": "https://localhost:8080/"
    },
    "id": "t0CrKFM5mpqi",
    "outputId": "87a77869-f27f-4adf-f76b-bef791ff195c"
   },
   "outputs": [
    {
     "name": "stdout",
     "output_type": "stream",
     "text": [
      "value counts of column loan_id\n",
      "LP001068    1\n",
      "LP002377    1\n",
      "LP002082    1\n",
      "LP002119    1\n",
      "LP002126    1\n",
      "LP002160    1\n",
      "LP002250    1\n",
      "LP002277    1\n",
      "LP002337    1\n",
      "LP002345    1\n",
      "LP002407    1\n",
      "LP001990    1\n",
      "LP002494    1\n",
      "LP002500    1\n",
      "LP002517    1\n",
      "LP002536    1\n",
      "LP002683    1\n",
      "LP002741    1\n",
      "LP002868    1\n",
      "LP002916    1\n",
      "LP001994    1\n",
      "LP001953    1\n",
      "LP001073    1\n",
      "LP001392    1\n",
      "LP001095    1\n",
      "LP001131    1\n",
      "LP001144    1\n",
      "LP001248    1\n",
      "LP001255    1\n",
      "LP001266    1\n",
      "LP001310    1\n",
      "LP001319    1\n",
      "LP001507    1\n",
      "LP001910    1\n",
      "LP001514    1\n",
      "LP001692    1\n",
      "LP001698    1\n",
      "LP001699    1\n",
      "LP001720    1\n",
      "LP001807    1\n",
      "LP001849    1\n",
      "LP001872    1\n",
      "LP002961    1\n",
      "Name: loan_id, dtype: int64\n",
      "------------------------------ \n",
      "\n",
      "value counts of column birth_date\n",
      "1986-09-10    1\n",
      "1985-05-31    1\n",
      "1989-01-24    1\n",
      "1986-10-07    1\n",
      "1985-08-02    1\n",
      "1990-11-27    1\n",
      "1984-06-23    1\n",
      "1972-06-12    1\n",
      "1982-06-30    1\n",
      "1981-08-16    1\n",
      "1981-08-22    1\n",
      "1980-08-03    1\n",
      "1990-08-07    1\n",
      "1987-04-07    1\n",
      "1983-09-30    1\n",
      "1988-08-22    1\n",
      "1976-11-04    1\n",
      "1986-02-23    1\n",
      "1984-02-14    1\n",
      "1987-04-15    1\n",
      "1977-10-14    1\n",
      "1988-03-21    1\n",
      "1989-02-05    1\n",
      "1986-03-28    1\n",
      "1983-09-21    1\n",
      "1986-11-09    1\n",
      "1984-08-31    1\n",
      "1986-06-07    1\n",
      "1980-07-12    1\n",
      "1984-08-05    1\n",
      "1987-10-18    1\n",
      "1985-04-18    1\n",
      "1984-03-29    1\n",
      "1990-08-22    1\n",
      "1981-10-20    1\n",
      "1991-02-21    1\n",
      "1985-07-28    1\n",
      "1980-06-24    1\n",
      "1980-02-17    1\n",
      "1995-10-08    1\n",
      "1989-06-13    1\n",
      "1985-02-14    1\n",
      "1983-02-14    1\n",
      "Name: birth_date, dtype: int64\n",
      "------------------------------ \n",
      "\n",
      "value counts of column gender\n",
      "Male      34\n",
      "Female     9\n",
      "Name: gender, dtype: int64\n",
      "------------------------------ \n",
      "\n",
      "value counts of column married\n",
      "Yes    26\n",
      "No     17\n",
      "Name: married, dtype: int64\n",
      "------------------------------ \n",
      "\n",
      "value counts of column dependents\n",
      "0     25\n",
      "1      9\n",
      "3+     5\n",
      "2      4\n",
      "Name: dependents, dtype: int64\n",
      "------------------------------ \n",
      "\n",
      "value counts of column education\n",
      "Graduate        29\n",
      "Not Graduate    14\n",
      "Name: education, dtype: int64\n",
      "------------------------------ \n",
      "\n",
      "value counts of column self_employed\n",
      "No     35\n",
      "Yes     8\n",
      "Name: self_employed, dtype: int64\n",
      "------------------------------ \n",
      "\n",
      "value counts of column has_credit_card\n",
      "no     23\n",
      "yes    20\n",
      "Name: has_credit_card, dtype: int64\n",
      "------------------------------ \n",
      "\n",
      "value counts of column property_type\n",
      "apartment    19\n",
      "house        15\n",
      "studio        9\n",
      "Name: property_type, dtype: int64\n",
      "------------------------------ \n",
      "\n",
      "value counts of column loan_status\n",
      "APPROVE    33\n",
      "REJECT     10\n",
      "Name: loan_status, dtype: int64\n",
      "------------------------------ \n",
      "\n"
     ]
    }
   ],
   "source": [
    "# pengecekan nilai kolom kategorikal\n",
    "\n",
    "for col in cats:\n",
    "    print(f'value counts of column {col}')\n",
    "    print(df[col].value_counts())\n",
    "    print('---'*10, '\\n')"
   ]
  },
  {
   "cell_type": "markdown",
   "id": "s_iNNnhrpmrU",
   "metadata": {
    "id": "s_iNNnhrpmrU"
   },
   "source": [
    "Strategi Encoding\n",
    "\n",
    "*   Label Encoding: `gender`, `dependents`,`education`, `property_type`, `loan_status`\n",
    "*   One Hot Encoding: `self_employed`, `married`, `has_credit_card`\n",
    "\n"
   ]
  },
  {
   "cell_type": "code",
   "execution_count": 19,
   "id": "pn79d6PzowAF",
   "metadata": {
    "id": "pn79d6PzowAF"
   },
   "outputs": [],
   "source": [
    "df = df.drop(columns='loan_id')"
   ]
  },
  {
   "cell_type": "code",
   "execution_count": 20,
   "id": "t_cqLyL3pSQ2",
   "metadata": {
    "id": "t_cqLyL3pSQ2"
   },
   "outputs": [],
   "source": [
    "df = df.drop(columns='birth_date')"
   ]
  },
  {
   "cell_type": "code",
   "execution_count": 21,
   "id": "2mj0whwApA2D",
   "metadata": {
    "colab": {
     "base_uri": "https://localhost:8080/"
    },
    "id": "2mj0whwApA2D",
    "outputId": "0e567e99-abb6-4f5c-a377-24a923bcb633"
   },
   "outputs": [
    {
     "name": "stdout",
     "output_type": "stream",
     "text": [
      "<class 'pandas.core.frame.DataFrame'>\n",
      "Int64Index: 43 entries, 26 to 613\n",
      "Data columns (total 15 columns):\n",
      " #   Column              Non-Null Count  Dtype  \n",
      "---  ------              --------------  -----  \n",
      " 0   phone_number        43 non-null     float64\n",
      " 1   gender              43 non-null     object \n",
      " 2   married             43 non-null     object \n",
      " 3   dependents          43 non-null     object \n",
      " 4   education           43 non-null     object \n",
      " 5   self_employed       43 non-null     object \n",
      " 6   applicant_income    43 non-null     float64\n",
      " 7   coapplicant_income  43 non-null     float64\n",
      " 8   loan_amount         43 non-null     int64  \n",
      " 9   loan_term_month     43 non-null     int64  \n",
      " 10  loan_term_year      43 non-null     int64  \n",
      " 11  credit_history      43 non-null     float64\n",
      " 12  has_credit_card     43 non-null     object \n",
      " 13  property_type       43 non-null     object \n",
      " 14  loan_status         43 non-null     object \n",
      "dtypes: float64(4), int64(3), object(8)\n",
      "memory usage: 5.4+ KB\n"
     ]
    }
   ],
   "source": [
    "df.info()"
   ]
  },
  {
   "cell_type": "code",
   "execution_count": 22,
   "id": "9AqDTw0DpG68",
   "metadata": {
    "id": "9AqDTw0DpG68"
   },
   "outputs": [],
   "source": [
    "# Label encoding\n",
    "\n",
    "mapping_gender = {\n",
    "    'Male'      : 0,\n",
    "    'Female'    : 1\n",
    "}\n",
    "\n",
    "mapping_dependents = {\n",
    "    '0' : 0,\n",
    "    '1' : 1,\n",
    "    '2' : 2,\n",
    "    '3+': 3\n",
    "}\n",
    "\n",
    "mapping_education = {\n",
    "    'Graduate'      : 0,\n",
    "    'Not Graduate'  : 1\n",
    "}\n",
    "\n",
    "mapping_property_type = {\n",
    "    'apartment'     : 0,\n",
    "    'house'         : 1,\n",
    "    'studio'        : 2\n",
    "}\n",
    "\n",
    "mapping_loan_status = {\n",
    "    'REJECT'        : 0,\n",
    "    'APPROVE'       : 1\n",
    "}\n",
    "\n",
    "df['gender'] = df['gender'].map(mapping_gender)\n",
    "df['dependents'] = df['dependents'].map(mapping_dependents)\n",
    "df['education'] = df['education'].map(mapping_education)\n",
    "df['property_type'] = df['property_type'].map(mapping_property_type)\n",
    "df['loan_status'] = df['loan_status'].map(mapping_loan_status)"
   ]
  },
  {
   "cell_type": "code",
   "execution_count": 23,
   "id": "SgK1T8IPt8Yg",
   "metadata": {
    "id": "SgK1T8IPt8Yg"
   },
   "outputs": [],
   "source": [
    "# One hot encoding\n",
    "\n",
    "for cats in ['self_employed', 'married', 'has_credit_card']:\n",
    "    onehot = pd.get_dummies(df[cats], prefix=cats)\n",
    "    df = df.join(onehot)"
   ]
  },
  {
   "cell_type": "code",
   "execution_count": 24,
   "id": "BObgCdCdyils",
   "metadata": {
    "colab": {
     "base_uri": "https://localhost:8080/",
     "height": 300
    },
    "id": "BObgCdCdyils",
    "outputId": "cea0c246-bad5-4aa5-e62c-66d5c5dd176c"
   },
   "outputs": [
    {
     "data": {
      "text/html": [
       "<div>\n",
       "<style scoped>\n",
       "    .dataframe tbody tr th:only-of-type {\n",
       "        vertical-align: middle;\n",
       "    }\n",
       "\n",
       "    .dataframe tbody tr th {\n",
       "        vertical-align: top;\n",
       "    }\n",
       "\n",
       "    .dataframe thead th {\n",
       "        text-align: right;\n",
       "    }\n",
       "</style>\n",
       "<table border=\"1\" class=\"dataframe\">\n",
       "  <thead>\n",
       "    <tr style=\"text-align: right;\">\n",
       "      <th></th>\n",
       "      <th>phone_number</th>\n",
       "      <th>gender</th>\n",
       "      <th>married</th>\n",
       "      <th>dependents</th>\n",
       "      <th>education</th>\n",
       "      <th>self_employed</th>\n",
       "      <th>applicant_income</th>\n",
       "      <th>coapplicant_income</th>\n",
       "      <th>loan_amount</th>\n",
       "      <th>loan_term_month</th>\n",
       "      <th>...</th>\n",
       "      <th>credit_history</th>\n",
       "      <th>has_credit_card</th>\n",
       "      <th>property_type</th>\n",
       "      <th>loan_status</th>\n",
       "      <th>self_employed_No</th>\n",
       "      <th>self_employed_Yes</th>\n",
       "      <th>married_No</th>\n",
       "      <th>married_Yes</th>\n",
       "      <th>has_credit_card_no</th>\n",
       "      <th>has_credit_card_yes</th>\n",
       "    </tr>\n",
       "  </thead>\n",
       "  <tbody>\n",
       "    <tr>\n",
       "      <th>26</th>\n",
       "      <td>6.281377e+11</td>\n",
       "      <td>0</td>\n",
       "      <td>Yes</td>\n",
       "      <td>0</td>\n",
       "      <td>0</td>\n",
       "      <td>No</td>\n",
       "      <td>2799.0</td>\n",
       "      <td>2253.0</td>\n",
       "      <td>122000</td>\n",
       "      <td>360</td>\n",
       "      <td>...</td>\n",
       "      <td>1.0</td>\n",
       "      <td>no</td>\n",
       "      <td>0</td>\n",
       "      <td>1</td>\n",
       "      <td>1</td>\n",
       "      <td>0</td>\n",
       "      <td>0</td>\n",
       "      <td>1</td>\n",
       "      <td>1</td>\n",
       "      <td>0</td>\n",
       "    </tr>\n",
       "    <tr>\n",
       "      <th>27</th>\n",
       "      <td>6.281346e+11</td>\n",
       "      <td>0</td>\n",
       "      <td>Yes</td>\n",
       "      <td>2</td>\n",
       "      <td>1</td>\n",
       "      <td>No</td>\n",
       "      <td>4226.0</td>\n",
       "      <td>1040.0</td>\n",
       "      <td>110000</td>\n",
       "      <td>360</td>\n",
       "      <td>...</td>\n",
       "      <td>1.0</td>\n",
       "      <td>yes</td>\n",
       "      <td>1</td>\n",
       "      <td>1</td>\n",
       "      <td>1</td>\n",
       "      <td>0</td>\n",
       "      <td>0</td>\n",
       "      <td>1</td>\n",
       "      <td>0</td>\n",
       "      <td>1</td>\n",
       "    </tr>\n",
       "    <tr>\n",
       "      <th>31</th>\n",
       "      <td>6.281348e+11</td>\n",
       "      <td>0</td>\n",
       "      <td>No</td>\n",
       "      <td>0</td>\n",
       "      <td>0</td>\n",
       "      <td>No</td>\n",
       "      <td>3167.0</td>\n",
       "      <td>0.0</td>\n",
       "      <td>74000</td>\n",
       "      <td>360</td>\n",
       "      <td>...</td>\n",
       "      <td>1.0</td>\n",
       "      <td>yes</td>\n",
       "      <td>1</td>\n",
       "      <td>0</td>\n",
       "      <td>1</td>\n",
       "      <td>0</td>\n",
       "      <td>1</td>\n",
       "      <td>0</td>\n",
       "      <td>0</td>\n",
       "      <td>1</td>\n",
       "    </tr>\n",
       "    <tr>\n",
       "      <th>43</th>\n",
       "      <td>6.287723e+10</td>\n",
       "      <td>0</td>\n",
       "      <td>Yes</td>\n",
       "      <td>0</td>\n",
       "      <td>0</td>\n",
       "      <td>No</td>\n",
       "      <td>3941.0</td>\n",
       "      <td>2336.0</td>\n",
       "      <td>134000</td>\n",
       "      <td>360</td>\n",
       "      <td>...</td>\n",
       "      <td>1.0</td>\n",
       "      <td>no</td>\n",
       "      <td>0</td>\n",
       "      <td>1</td>\n",
       "      <td>1</td>\n",
       "      <td>0</td>\n",
       "      <td>0</td>\n",
       "      <td>1</td>\n",
       "      <td>1</td>\n",
       "      <td>0</td>\n",
       "    </tr>\n",
       "    <tr>\n",
       "      <th>47</th>\n",
       "      <td>6.285642e+11</td>\n",
       "      <td>0</td>\n",
       "      <td>Yes</td>\n",
       "      <td>0</td>\n",
       "      <td>0</td>\n",
       "      <td>No</td>\n",
       "      <td>5821.0</td>\n",
       "      <td>0.0</td>\n",
       "      <td>144000</td>\n",
       "      <td>360</td>\n",
       "      <td>...</td>\n",
       "      <td>1.0</td>\n",
       "      <td>yes</td>\n",
       "      <td>1</td>\n",
       "      <td>1</td>\n",
       "      <td>1</td>\n",
       "      <td>0</td>\n",
       "      <td>0</td>\n",
       "      <td>1</td>\n",
       "      <td>0</td>\n",
       "      <td>1</td>\n",
       "    </tr>\n",
       "  </tbody>\n",
       "</table>\n",
       "<p>5 rows × 21 columns</p>\n",
       "</div>"
      ],
      "text/plain": [
       "    phone_number  gender married  dependents  education self_employed  \\\n",
       "26  6.281377e+11       0     Yes           0          0            No   \n",
       "27  6.281346e+11       0     Yes           2          1            No   \n",
       "31  6.281348e+11       0      No           0          0            No   \n",
       "43  6.287723e+10       0     Yes           0          0            No   \n",
       "47  6.285642e+11       0     Yes           0          0            No   \n",
       "\n",
       "    applicant_income  coapplicant_income  loan_amount  loan_term_month  ...  \\\n",
       "26            2799.0              2253.0       122000              360  ...   \n",
       "27            4226.0              1040.0       110000              360  ...   \n",
       "31            3167.0                 0.0        74000              360  ...   \n",
       "43            3941.0              2336.0       134000              360  ...   \n",
       "47            5821.0                 0.0       144000              360  ...   \n",
       "\n",
       "    credit_history  has_credit_card property_type  loan_status  \\\n",
       "26             1.0               no             0            1   \n",
       "27             1.0              yes             1            1   \n",
       "31             1.0              yes             1            0   \n",
       "43             1.0               no             0            1   \n",
       "47             1.0              yes             1            1   \n",
       "\n",
       "    self_employed_No  self_employed_Yes  married_No  married_Yes  \\\n",
       "26                 1                  0           0            1   \n",
       "27                 1                  0           0            1   \n",
       "31                 1                  0           1            0   \n",
       "43                 1                  0           0            1   \n",
       "47                 1                  0           0            1   \n",
       "\n",
       "    has_credit_card_no  has_credit_card_yes  \n",
       "26                   1                    0  \n",
       "27                   0                    1  \n",
       "31                   0                    1  \n",
       "43                   1                    0  \n",
       "47                   0                    1  \n",
       "\n",
       "[5 rows x 21 columns]"
      ]
     },
     "execution_count": 24,
     "metadata": {},
     "output_type": "execute_result"
    }
   ],
   "source": [
    "df.head()"
   ]
  },
  {
   "cell_type": "code",
   "execution_count": 25,
   "id": "txLXn7jvy2-5",
   "metadata": {
    "id": "txLXn7jvy2-5"
   },
   "outputs": [],
   "source": [
    "# drop kolom berikut karena sudah diencoding\n",
    "df = df.drop(columns=['self_employed', 'married','has_credit_card'])"
   ]
  },
  {
   "cell_type": "code",
   "execution_count": 26,
   "id": "wyD1AZ-qzZvt",
   "metadata": {
    "colab": {
     "base_uri": "https://localhost:8080/"
    },
    "id": "wyD1AZ-qzZvt",
    "outputId": "da0268e9-4100-4342-8d0b-83807a591483"
   },
   "outputs": [
    {
     "name": "stdout",
     "output_type": "stream",
     "text": [
      "<class 'pandas.core.frame.DataFrame'>\n",
      "Int64Index: 43 entries, 26 to 613\n",
      "Data columns (total 18 columns):\n",
      " #   Column               Non-Null Count  Dtype  \n",
      "---  ------               --------------  -----  \n",
      " 0   phone_number         43 non-null     float64\n",
      " 1   gender               43 non-null     int64  \n",
      " 2   dependents           43 non-null     int64  \n",
      " 3   education            43 non-null     int64  \n",
      " 4   applicant_income     43 non-null     float64\n",
      " 5   coapplicant_income   43 non-null     float64\n",
      " 6   loan_amount          43 non-null     int64  \n",
      " 7   loan_term_month      43 non-null     int64  \n",
      " 8   loan_term_year       43 non-null     int64  \n",
      " 9   credit_history       43 non-null     float64\n",
      " 10  property_type        43 non-null     int64  \n",
      " 11  loan_status          43 non-null     int64  \n",
      " 12  self_employed_No     43 non-null     uint8  \n",
      " 13  self_employed_Yes    43 non-null     uint8  \n",
      " 14  married_No           43 non-null     uint8  \n",
      " 15  married_Yes          43 non-null     uint8  \n",
      " 16  has_credit_card_no   43 non-null     uint8  \n",
      " 17  has_credit_card_yes  43 non-null     uint8  \n",
      "dtypes: float64(4), int64(8), uint8(6)\n",
      "memory usage: 5.7 KB\n"
     ]
    }
   ],
   "source": [
    "# dataframe yang sudah diprocess\n",
    "df.info()"
   ]
  },
  {
   "cell_type": "markdown",
   "id": "a7228757",
   "metadata": {
    "id": "a7228757"
   },
   "source": [
    "# Business Insight"
   ]
  },
  {
   "cell_type": "markdown",
   "id": "b890d514",
   "metadata": {
    "id": "b890d514"
   },
   "source": [
    "## Analisis minat pelanggan berdasarkan pada tipe properti"
   ]
  },
  {
   "cell_type": "code",
   "execution_count": 27,
   "id": "sIMf81fO8jRJ",
   "metadata": {
    "colab": {
     "base_uri": "https://localhost:8080/",
     "height": 237
    },
    "id": "sIMf81fO8jRJ",
    "outputId": "9f9c0577-8081-4d29-d10d-39b56bcf80e6"
   },
   "outputs": [
    {
     "data": {
      "text/html": [
       "<div>\n",
       "<style scoped>\n",
       "    .dataframe tbody tr th:only-of-type {\n",
       "        vertical-align: middle;\n",
       "    }\n",
       "\n",
       "    .dataframe tbody tr th {\n",
       "        vertical-align: top;\n",
       "    }\n",
       "\n",
       "    .dataframe thead th {\n",
       "        text-align: right;\n",
       "    }\n",
       "</style>\n",
       "<table border=\"1\" class=\"dataframe\">\n",
       "  <thead>\n",
       "    <tr style=\"text-align: right;\">\n",
       "      <th></th>\n",
       "      <th>property_type</th>\n",
       "      <th>gender</th>\n",
       "      <th>0</th>\n",
       "    </tr>\n",
       "  </thead>\n",
       "  <tbody>\n",
       "    <tr>\n",
       "      <th>0</th>\n",
       "      <td>0</td>\n",
       "      <td>0</td>\n",
       "      <td>14</td>\n",
       "    </tr>\n",
       "    <tr>\n",
       "      <th>1</th>\n",
       "      <td>1</td>\n",
       "      <td>0</td>\n",
       "      <td>12</td>\n",
       "    </tr>\n",
       "    <tr>\n",
       "      <th>2</th>\n",
       "      <td>2</td>\n",
       "      <td>0</td>\n",
       "      <td>8</td>\n",
       "    </tr>\n",
       "    <tr>\n",
       "      <th>3</th>\n",
       "      <td>0</td>\n",
       "      <td>1</td>\n",
       "      <td>5</td>\n",
       "    </tr>\n",
       "    <tr>\n",
       "      <th>4</th>\n",
       "      <td>1</td>\n",
       "      <td>1</td>\n",
       "      <td>3</td>\n",
       "    </tr>\n",
       "    <tr>\n",
       "      <th>5</th>\n",
       "      <td>2</td>\n",
       "      <td>1</td>\n",
       "      <td>1</td>\n",
       "    </tr>\n",
       "  </tbody>\n",
       "</table>\n",
       "</div>"
      ],
      "text/plain": [
       "   property_type  gender   0\n",
       "0              0       0  14\n",
       "1              1       0  12\n",
       "2              2       0   8\n",
       "3              0       1   5\n",
       "4              1       1   3\n",
       "5              2       1   1"
      ]
     },
     "execution_count": 27,
     "metadata": {},
     "output_type": "execute_result"
    }
   ],
   "source": [
    "counting_property = df[['property_type', 'gender']].value_counts().to_frame().reset_index()\n",
    "counting_property"
   ]
  },
  {
   "cell_type": "markdown",
   "id": "6ZsXPCA8-yhz",
   "metadata": {
    "id": "6ZsXPCA8-yhz"
   },
   "source": [
    "# Conclussion\n",
    "\n",
    "**Minat Pelanggan laki-laki :**\n",
    "\n",
    "1. Apartment    : 15\n",
    "2. House        : 13\n",
    "3. Studio       : 8\n",
    "\n",
    "**Minat Pelanggan perempuan :**\n",
    "\n",
    "1. Apartment    : 5\n",
    "2. House        : 3\n",
    "3. Studio       : 1\n",
    "\n",
    "\n"
   ]
  },
  {
   "cell_type": "markdown",
   "id": "c43363d1",
   "metadata": {
    "id": "c43363d1"
   },
   "source": [
    "## Analisis pengaruh status perkawinan terhadap jangka waktu meminjam "
   ]
  },
  {
   "cell_type": "code",
   "execution_count": 28,
   "id": "tNP-gWi5BQR_",
   "metadata": {
    "colab": {
     "base_uri": "https://localhost:8080/"
    },
    "id": "tNP-gWi5BQR_",
    "outputId": "69ead7c9-f75c-4d52-de3b-c59a33bb3584"
   },
   "outputs": [
    {
     "data": {
      "text/plain": [
       "27.384615384615383"
      ]
     },
     "execution_count": 28,
     "metadata": {},
     "output_type": "execute_result"
    }
   ],
   "source": [
    "df_married_yes = df.loc[df['married_Yes'] == 1]\n",
    "df_married_yes = df_married_yes[['married_Yes', 'loan_term_year']]\n",
    "df_married_yes = df_married_yes['loan_term_year'].mean()\n",
    "df_married_yes"
   ]
  },
  {
   "cell_type": "code",
   "execution_count": 29,
   "id": "qlG1QXeiCzCl",
   "metadata": {
    "colab": {
     "base_uri": "https://localhost:8080/"
    },
    "id": "qlG1QXeiCzCl",
    "outputId": "e8c90ac0-1c5b-4117-bd65-a44c24ac1da0"
   },
   "outputs": [
    {
     "data": {
      "text/plain": [
       "30.294117647058822"
      ]
     },
     "execution_count": 29,
     "metadata": {},
     "output_type": "execute_result"
    }
   ],
   "source": [
    "df_married_no = df.loc[df['married_No'] == 1]\n",
    "df_married_no = df_married_no[['married_No', 'loan_term_year']]\n",
    "df_married_no = df_married_no['loan_term_year'].mean()\n",
    "df_married_no"
   ]
  },
  {
   "cell_type": "markdown",
   "id": "ZEMfqA4tDVOw",
   "metadata": {
    "id": "ZEMfqA4tDVOw"
   },
   "source": [
    "# Conclussion\n",
    "\n",
    "Pelanggan yang lajang memiliki jangka waktu peminjaman rata-rata lebih panjang (30.28 tahun) dibanding pelanggan yang sudah menikah (27.48 tahun)"
   ]
  }
 ],
 "metadata": {
  "colab": {
   "name": "Stella_Indranawaski .ipynb",
   "provenance": []
  },
  "kernelspec": {
   "display_name": "Python 3 (ipykernel)",
   "language": "python",
   "name": "python3"
  },
  "language_info": {
   "codemirror_mode": {
    "name": "ipython",
    "version": 3
   },
   "file_extension": ".py",
   "mimetype": "text/x-python",
   "name": "python",
   "nbconvert_exporter": "python",
   "pygments_lexer": "ipython3",
   "version": "3.10.2"
  }
 },
 "nbformat": 4,
 "nbformat_minor": 5
}
