{
 "cells": [
  {
   "cell_type": "markdown",
   "id": "abf05cad",
   "metadata": {
    "id": "abf05cad"
   },
   "source": [
    "# Import Libraries"
   ]
  },
  {
   "cell_type": "code",
   "execution_count": 76,
   "id": "eK_2pp04_scy",
   "metadata": {
    "id": "eK_2pp04_scy"
   },
   "outputs": [],
   "source": [
    "import numpy as np\n",
    "import pandas as pd\n",
    "import matplotlib.pyplot as plt\n",
    "import seaborn as sns"
   ]
  },
  {
   "cell_type": "markdown",
   "id": "baa49998",
   "metadata": {
    "id": "baa49998",
    "tags": []
   },
   "source": [
    "# Load Dataset"
   ]
  },
  {
   "cell_type": "code",
   "execution_count": 77,
   "id": "bc091ff6",
   "metadata": {
    "id": "bc091ff6"
   },
   "outputs": [],
   "source": [
    "df = pd.read_csv('loan_customer.csv')"
   ]
  },
  {
   "cell_type": "code",
   "execution_count": 78,
   "id": "VKRtG9-eA0Bz",
   "metadata": {
    "colab": {
     "base_uri": "https://localhost:8080/"
    },
    "id": "VKRtG9-eA0Bz",
    "outputId": "19123d92-f6f4-49ac-a801-1e18cc0eaf05"
   },
   "outputs": [
    {
     "name": "stdout",
     "output_type": "stream",
     "text": [
      "<class 'pandas.core.frame.DataFrame'>\n",
      "RangeIndex: 621 entries, 0 to 620\n",
      "Data columns (total 17 columns):\n",
      " #   Column              Non-Null Count  Dtype  \n",
      "---  ------              --------------  -----  \n",
      " 0   loan_id             621 non-null    object \n",
      " 1   birth_date          572 non-null    object \n",
      " 2   phone_number        569 non-null    float64\n",
      " 3   gender              608 non-null    object \n",
      " 4   married             618 non-null    object \n",
      " 5   dependents          605 non-null    object \n",
      " 6   education           620 non-null    object \n",
      " 7   self_employed       588 non-null    object \n",
      " 8   applicant_income    612 non-null    float64\n",
      " 9   coapplicant_income  621 non-null    float64\n",
      " 10  loan_amount         621 non-null    int64  \n",
      " 11  loan_term_month     621 non-null    int64  \n",
      " 12  loan_term_year      621 non-null    int64  \n",
      " 13  credit_history      570 non-null    float64\n",
      " 14  has_credit_card     88 non-null     object \n",
      " 15  property_type       620 non-null    object \n",
      " 16  loan_status         621 non-null    object \n",
      "dtypes: float64(4), int64(3), object(10)\n",
      "memory usage: 82.6+ KB\n"
     ]
    }
   ],
   "source": [
    "df.info()"
   ]
  },
  {
   "cell_type": "code",
   "execution_count": 79,
   "id": "3Y4Ab8V7NiIp",
   "metadata": {
    "colab": {
     "base_uri": "https://localhost:8080/",
     "height": 287
    },
    "id": "3Y4Ab8V7NiIp",
    "outputId": "daadfc59-5e19-454a-f634-c4d61fc75cec"
   },
   "outputs": [],
   "source": [
    "df.drop('has_credit_card', axis=1, inplace=True)\n",
    "\n",
    "#kolom 'has_credit_card' dihapus karena memiliki data kosong yang banyak\n",
    "#inplace=True merubah dataframe lama menjadi dataframe yang benar\n",
    "#sesuai dengan keinginan kita"
   ]
  },
  {
   "cell_type": "code",
   "execution_count": 80,
   "id": "c0f845c8-c300-44ca-b192-d9c3bf88881a",
   "metadata": {},
   "outputs": [
    {
     "data": {
      "text/plain": [
       "(621, 16)"
      ]
     },
     "execution_count": 80,
     "metadata": {},
     "output_type": "execute_result"
    }
   ],
   "source": [
    "df.shape"
   ]
  },
  {
   "cell_type": "code",
   "execution_count": 81,
   "id": "e4581839-4d18-4020-8750-c3e49a1bb371",
   "metadata": {},
   "outputs": [],
   "source": [
    "#clean empty data (NaN/NaT/etc)\n",
    "\n",
    "df.dropna(inplace=True)"
   ]
  },
  {
   "cell_type": "code",
   "execution_count": 82,
   "id": "e79bfabe-b363-441c-bce2-f6c340aefbaa",
   "metadata": {},
   "outputs": [
    {
     "data": {
      "text/plain": [
       "(434, 16)"
      ]
     },
     "execution_count": 82,
     "metadata": {},
     "output_type": "execute_result"
    }
   ],
   "source": [
    "df.shape"
   ]
  },
  {
   "cell_type": "markdown",
   "id": "7c0e3893",
   "metadata": {
    "id": "7c0e3893",
    "tags": []
   },
   "source": [
    "# Data Cleansing"
   ]
  },
  {
   "cell_type": "markdown",
   "id": "dc4032a4",
   "metadata": {
    "id": "dc4032a4",
    "tags": []
   },
   "source": [
    "## Handling missing values"
   ]
  },
  {
   "cell_type": "code",
   "execution_count": 83,
   "id": "b2b5755e",
   "metadata": {
    "colab": {
     "base_uri": "https://localhost:8080/"
    },
    "id": "b2b5755e",
    "outputId": "b3192047-7817-4598-eea9-028d3155aa6c"
   },
   "outputs": [
    {
     "data": {
      "text/plain": [
       "loan_id               0\n",
       "birth_date            0\n",
       "phone_number          0\n",
       "gender                0\n",
       "married               0\n",
       "dependents            0\n",
       "education             0\n",
       "self_employed         0\n",
       "applicant_income      0\n",
       "coapplicant_income    0\n",
       "loan_amount           0\n",
       "loan_term_month       0\n",
       "loan_term_year        0\n",
       "credit_history        0\n",
       "property_type         0\n",
       "loan_status           0\n",
       "dtype: int64"
      ]
     },
     "execution_count": 83,
     "metadata": {},
     "output_type": "execute_result"
    }
   ],
   "source": [
    "#checking the dataframe is null\n",
    "# isna is an aka for isnull\n",
    "\n",
    "df.isna().sum()"
   ]
  },
  {
   "cell_type": "markdown",
   "id": "d75d760e",
   "metadata": {
    "id": "d75d760e",
    "tags": []
   },
   "source": [
    "## Handling duplicated data"
   ]
  },
  {
   "cell_type": "code",
   "execution_count": 85,
   "id": "f040795a",
   "metadata": {
    "colab": {
     "base_uri": "https://localhost:8080/"
    },
    "id": "f040795a",
    "outputId": "370923cc-ce8a-46a2-dee5-6d8e99040722"
   },
   "outputs": [
    {
     "data": {
      "text/plain": [
       "5"
      ]
     },
     "execution_count": 85,
     "metadata": {},
     "output_type": "execute_result"
    }
   ],
   "source": [
    "df.duplicated().sum()"
   ]
  },
  {
   "cell_type": "code",
   "execution_count": 86,
   "id": "8d9d4fa5-04ed-4218-825c-6d2613db6a36",
   "metadata": {},
   "outputs": [
    {
     "name": "stdout",
     "output_type": "stream",
     "text": [
      "Entries data duplicated:\n",
      "5\n"
     ]
    }
   ],
   "source": [
    "# Remove duplicated data\n",
    "\n",
    "print('Entries data duplicated:')\n",
    "print(df.duplicated().sum())\n"
   ]
  },
  {
   "cell_type": "code",
   "execution_count": 87,
   "id": "d2eab274-7fcb-46b7-bffb-c4cc417b2c29",
   "metadata": {},
   "outputs": [
    {
     "name": "stdout",
     "output_type": "stream",
     "text": [
      "Entries data duplicated after remove:\n",
      "0\n"
     ]
    }
   ],
   "source": [
    "print('Entries data duplicated after remove:')\n",
    "df.drop_duplicates(inplace=True)\n",
    "print(df.duplicated().sum())"
   ]
  },
  {
   "cell_type": "markdown",
   "id": "1746fdc4-a95d-4c68-baa2-9f8e74103587",
   "metadata": {
    "jp-MarkdownHeadingCollapsed": true,
    "tags": []
   },
   "source": [
    "No duplicates data"
   ]
  },
  {
   "cell_type": "markdown",
   "id": "a73632f3",
   "metadata": {
    "id": "a73632f3",
    "tags": []
   },
   "source": [
    "## Outlier Handling"
   ]
  },
  {
   "cell_type": "code",
   "execution_count": 89,
   "id": "64263e39-9e39-4d0e-9b23-b7ab1989126c",
   "metadata": {},
   "outputs": [],
   "source": [
    "# apakah ada data outlier yang sangat mempengaruhi data?\n",
    "# bisa dicek dengan boxplot seperti berikut:"
   ]
  },
  {
   "cell_type": "code",
   "execution_count": 90,
   "id": "5a27d364-4b8b-4b02-a0b7-503d3b31a437",
   "metadata": {},
   "outputs": [
    {
     "data": {
      "text/plain": [
       "<AxesSubplot:xlabel='applicant_income'>"
      ]
     },
     "execution_count": 90,
     "metadata": {},
     "output_type": "execute_result"
    },
    {
     "data": {
      "image/png": "[encoded data removed]",
      "text/plain": [
       "<Figure size 432x288 with 1 Axes>"
      ]
     },
     "metadata": {},
     "output_type": "display_data"
    }
   ],
   "source": [
    "sns.boxplot(x='applicant_income', data=df)"
   ]
  },
  {
   "cell_type": "code",
   "execution_count": 91,
   "id": "6ac416db-9680-414e-9d3d-91ee93345ec9",
   "metadata": {},
   "outputs": [
    {
     "data": {
      "text/plain": [
       "<AxesSubplot:xlabel='coapplicant_income'>"
      ]
     },
     "execution_count": 91,
     "metadata": {},
     "output_type": "execute_result"
    },
    {
     "data": {
      "image/png": "[encoded data removed]",
      "text/plain": [
       "<Figure size 432x288 with 1 Axes>"
      ]
     },
     "metadata": {},
     "output_type": "display_data"
    }
   ],
   "source": [
    "sns.boxplot(x='coapplicant_income', data=df)\n"
   ]
  },
  {
   "cell_type": "code",
   "execution_count": 92,
   "id": "690acc0f-b355-4821-b47d-00f7f1e92116",
   "metadata": {},
   "outputs": [
    {
     "data": {
      "text/plain": [
       "<AxesSubplot:xlabel='loan_amount'>"
      ]
     },
     "execution_count": 92,
     "metadata": {},
     "output_type": "execute_result"
    },
    {
     "data": {
      "image/png": "[encoded data removed]",
      "text/plain": [
       "<Figure size 432x288 with 1 Axes>"
      ]
     },
     "metadata": {},
     "output_type": "display_data"
    }
   ],
   "source": [
    "sns.boxplot(x='loan_amount', data=df)"
   ]
  },
  {
   "cell_type": "code",
   "execution_count": 93,
   "id": "dfbec136",
   "metadata": {
    "colab": {
     "base_uri": "https://localhost:8080/"
    },
    "id": "dfbec136",
    "outputId": "6aa32d20-b416-4da5-923a-d6a0618b112b"
   },
   "outputs": [
    {
     "name": "stdout",
     "output_type": "stream",
     "text": [
      "Entries before handling outlier: 429\n",
      "Entries after handling outlier : 366\n"
     ]
    }
   ],
   "source": [
    "print(f'Entries before handling outlier: {len(df)}')\n",
    "\n",
    "for col in ['applicant_income', 'coapplicant_income', 'loan_amount']:\n",
    "    Q1 = df[col].quantile(0.25)\n",
    "    Q3 = df[col].quantile(0.75)\n",
    "    IQR = Q3 - Q1\n",
    "    low_limit = Q1 - 1.5*IQR\n",
    "    high_limit = Q3 + 1.5*IQR\n",
    "    df = df[(df[col] >= low_limit) & (df[col] <= high_limit)]\n",
    "\n",
    "print(f'Entries after handling outlier : {len(df)}')"
   ]
  },
  {
   "cell_type": "code",
   "execution_count": 94,
   "id": "5f1492dc-c2c1-4ab8-8270-6d61c5b828c3",
   "metadata": {},
   "outputs": [
    {
     "data": {
      "text/plain": [
       "(366, 16)"
      ]
     },
     "execution_count": 94,
     "metadata": {},
     "output_type": "execute_result"
    }
   ],
   "source": [
    "df.shape"
   ]
  },
  {
   "cell_type": "markdown",
   "id": "659efbd3",
   "metadata": {
    "id": "659efbd3"
   },
   "source": [
    "## Feature Encoding"
   ]
  },
  {
   "cell_type": "code",
   "execution_count": 95,
   "id": "20e217a2",
   "metadata": {
    "id": "20e217a2"
   },
   "outputs": [],
   "source": [
    "nums = ['phone_number', 'applicant_income', 'coapplicant_income', 'loan_amount', 'loan_term_month', 'loan_term_year', 'credit_history']\n",
    "cats = ['loan_id', 'birth_date', 'gender', 'married', 'dependents', 'education', 'self_employed', 'property_type', 'loan_status']"
   ]
  },
  {
   "cell_type": "code",
   "execution_count": 96,
   "id": "t0CrKFM5mpqi",
   "metadata": {
    "colab": {
     "base_uri": "https://localhost:8080/"
    },
    "id": "t0CrKFM5mpqi",
    "outputId": "87a77869-f27f-4adf-f76b-bef791ff195c"
   },
   "outputs": [
    {
     "name": "stdout",
     "output_type": "stream",
     "text": [
      "value counts of column loan_id\n",
      "LP001002    1\n",
      "LP002337    1\n",
      "LP002332    1\n",
      "LP002328    1\n",
      "LP002318    1\n",
      "           ..\n",
      "LP001693    1\n",
      "LP001692    1\n",
      "LP001691    1\n",
      "LP001682    1\n",
      "LP002984    1\n",
      "Name: loan_id, Length: 366, dtype: int64\n",
      "------------------------------ \n",
      "\n",
      "value counts of column birth_date\n",
      "1990-03-25    2\n",
      "1982-09-18    2\n",
      "1986-05-24    2\n",
      "1991-08-21    2\n",
      "1984-09-29    2\n",
      "             ..\n",
      "1991-02-21    1\n",
      "1988-11-27    1\n",
      "1979-11-07    1\n",
      "1985-12-30    1\n",
      "1986-12-05    1\n",
      "Name: birth_date, Length: 354, dtype: int64\n",
      "------------------------------ \n",
      "\n",
      "value counts of column gender\n",
      "Male      299\n",
      "Female     67\n",
      "Name: gender, dtype: int64\n",
      "------------------------------ \n",
      "\n",
      "value counts of column married\n",
      "Yes    230\n",
      "No     136\n",
      "Name: married, dtype: int64\n",
      "------------------------------ \n",
      "\n",
      "value counts of column dependents\n",
      "0     219\n",
      "2      61\n",
      "1      60\n",
      "3+     26\n",
      "Name: dependents, dtype: int64\n",
      "------------------------------ \n",
      "\n",
      "value counts of column education\n",
      "Graduate        273\n",
      "Not Graduate     93\n",
      "Name: education, dtype: int64\n",
      "------------------------------ \n",
      "\n",
      "value counts of column self_employed\n",
      "No     327\n",
      "Yes     39\n",
      "Name: self_employed, dtype: int64\n",
      "------------------------------ \n",
      "\n",
      "value counts of column property_type\n",
      "apartment    148\n",
      "house        114\n",
      "studio       104\n",
      "Name: property_type, dtype: int64\n",
      "------------------------------ \n",
      "\n",
      "value counts of column loan_status\n",
      "APPROVE    255\n",
      "REJECT     111\n",
      "Name: loan_status, dtype: int64\n",
      "------------------------------ \n",
      "\n"
     ]
    }
   ],
   "source": [
    "for col in cats:\n",
    "    print(f'value counts of column {col}')\n",
    "    print(df[col].value_counts())\n",
    "    print('---'*10, '\\n')"
   ]
  },
  {
   "cell_type": "markdown",
   "id": "s_iNNnhrpmrU",
   "metadata": {
    "id": "s_iNNnhrpmrU"
   },
   "source": [
    "Strategi Encoding\n",
    "\n",
    "*   Label Encoding: `gender`, `dependents`,`education`, `property_type`, `loan_status`\n",
    "*   One Hot Encoding: `self_employed`, `married`\n",
    "\n"
   ]
  },
  {
   "cell_type": "code",
   "execution_count": 97,
   "id": "2mj0whwApA2D",
   "metadata": {
    "colab": {
     "base_uri": "https://localhost:8080/"
    },
    "id": "2mj0whwApA2D",
    "outputId": "0e567e99-abb6-4f5c-a377-24a923bcb633"
   },
   "outputs": [
    {
     "name": "stdout",
     "output_type": "stream",
     "text": [
      "<class 'pandas.core.frame.DataFrame'>\n",
      "Int64Index: 366 entries, 0 to 619\n",
      "Data columns (total 16 columns):\n",
      " #   Column              Non-Null Count  Dtype  \n",
      "---  ------              --------------  -----  \n",
      " 0   loan_id             366 non-null    object \n",
      " 1   birth_date          366 non-null    object \n",
      " 2   phone_number        366 non-null    float64\n",
      " 3   gender              366 non-null    object \n",
      " 4   married             366 non-null    object \n",
      " 5   dependents          366 non-null    object \n",
      " 6   education           366 non-null    object \n",
      " 7   self_employed       366 non-null    object \n",
      " 8   applicant_income    366 non-null    float64\n",
      " 9   coapplicant_income  366 non-null    float64\n",
      " 10  loan_amount         366 non-null    int64  \n",
      " 11  loan_term_month     366 non-null    int64  \n",
      " 12  loan_term_year      366 non-null    int64  \n",
      " 13  credit_history      366 non-null    float64\n",
      " 14  property_type       366 non-null    object \n",
      " 15  loan_status         366 non-null    object \n",
      "dtypes: float64(4), int64(3), object(9)\n",
      "memory usage: 48.6+ KB\n"
     ]
    }
   ],
   "source": [
    "df.info()"
   ]
  },
  {
   "cell_type": "code",
   "execution_count": 98,
   "id": "9AqDTw0DpG68",
   "metadata": {
    "id": "9AqDTw0DpG68"
   },
   "outputs": [],
   "source": [
    "# Label encoding\n",
    "\n",
    "mapping_gender = {\n",
    "    'Male'      : 0,\n",
    "    'Female'    : 1\n",
    "}\n",
    "\n",
    "mapping_dependents = {\n",
    "    '0' : 0,\n",
    "    '1' : 1,\n",
    "    '2' : 2,\n",
    "    '3+': 3\n",
    "}\n",
    "\n",
    "mapping_education = {\n",
    "    'Graduate'      : 0,\n",
    "    'Not Graduate'  : 1\n",
    "}\n",
    "\n",
    "mapping_property_type = {\n",
    "    'apartment'     : 0,\n",
    "    'house'         : 1,\n",
    "    'studio'        : 2\n",
    "}\n",
    "\n",
    "mapping_loan_status = {\n",
    "    'REJECT'        : 0,\n",
    "    'APPROVE'       : 1\n",
    "}\n",
    "\n",
    "df['gender'] = df['gender'].map(mapping_gender)\n",
    "df['dependents'] = df['dependents'].map(mapping_dependents)\n",
    "df['education'] = df['education'].map(mapping_education)\n",
    "df['property_type'] = df['property_type'].map(mapping_property_type)\n",
    "df['loan_status'] = df['loan_status'].map(mapping_loan_status)"
   ]
  },
  {
   "cell_type": "code",
   "execution_count": 99,
   "id": "SgK1T8IPt8Yg",
   "metadata": {
    "id": "SgK1T8IPt8Yg"
   },
   "outputs": [],
   "source": [
    "# One hot encoding\n",
    "\n",
    "for cats in ['self_employed', 'married']:\n",
    "    onehot = pd.get_dummies(df[cats], prefix=cats)\n",
    "    df = df.join(onehot)"
   ]
  },
  {
   "cell_type": "code",
   "execution_count": 100,
   "id": "BObgCdCdyils",
   "metadata": {
    "colab": {
     "base_uri": "https://localhost:8080/",
     "height": 300
    },
    "id": "BObgCdCdyils",
    "outputId": "cea0c246-bad5-4aa5-e62c-66d5c5dd176c"
   },
   "outputs": [
    {
     "data": {
      "text/html": [
       "<div>\n",
       "<style scoped>\n",
       "    .dataframe tbody tr th:only-of-type {\n",
       "        vertical-align: middle;\n",
       "    }\n",
       "\n",
       "    .dataframe tbody tr th {\n",
       "        vertical-align: top;\n",
       "    }\n",
       "\n",
       "    .dataframe thead th {\n",
       "        text-align: right;\n",
       "    }\n",
       "</style>\n",
       "<table border=\"1\" class=\"dataframe\">\n",
       "  <thead>\n",
       "    <tr style=\"text-align: right;\">\n",
       "      <th></th>\n",
       "      <th>loan_id</th>\n",
       "      <th>birth_date</th>\n",
       "      <th>phone_number</th>\n",
       "      <th>gender</th>\n",
       "      <th>married</th>\n",
       "      <th>dependents</th>\n",
       "      <th>education</th>\n",
       "      <th>self_employed</th>\n",
       "      <th>applicant_income</th>\n",
       "      <th>coapplicant_income</th>\n",
       "      <th>loan_amount</th>\n",
       "      <th>loan_term_month</th>\n",
       "      <th>loan_term_year</th>\n",
       "      <th>credit_history</th>\n",
       "      <th>property_type</th>\n",
       "      <th>loan_status</th>\n",
       "      <th>self_employed_No</th>\n",
       "      <th>self_employed_Yes</th>\n",
       "      <th>married_No</th>\n",
       "      <th>married_Yes</th>\n",
       "    </tr>\n",
       "  </thead>\n",
       "  <tbody>\n",
       "    <tr>\n",
       "      <th>0</th>\n",
       "      <td>LP001002</td>\n",
       "      <td>1977-05-15</td>\n",
       "      <td>6.281142e+11</td>\n",
       "      <td>0</td>\n",
       "      <td>No</td>\n",
       "      <td>0</td>\n",
       "      <td>0</td>\n",
       "      <td>No</td>\n",
       "      <td>5849.0</td>\n",
       "      <td>0.0</td>\n",
       "      <td>100000</td>\n",
       "      <td>360</td>\n",
       "      <td>30</td>\n",
       "      <td>1.0</td>\n",
       "      <td>1</td>\n",
       "      <td>1</td>\n",
       "      <td>1</td>\n",
       "      <td>0</td>\n",
       "      <td>1</td>\n",
       "      <td>0</td>\n",
       "    </tr>\n",
       "    <tr>\n",
       "      <th>1</th>\n",
       "      <td>LP001003</td>\n",
       "      <td>1979-08-24</td>\n",
       "      <td>6.287764e+11</td>\n",
       "      <td>0</td>\n",
       "      <td>Yes</td>\n",
       "      <td>1</td>\n",
       "      <td>0</td>\n",
       "      <td>No</td>\n",
       "      <td>4583.0</td>\n",
       "      <td>1508.0</td>\n",
       "      <td>128000</td>\n",
       "      <td>360</td>\n",
       "      <td>30</td>\n",
       "      <td>1.0</td>\n",
       "      <td>2</td>\n",
       "      <td>0</td>\n",
       "      <td>1</td>\n",
       "      <td>0</td>\n",
       "      <td>0</td>\n",
       "      <td>1</td>\n",
       "    </tr>\n",
       "    <tr>\n",
       "      <th>2</th>\n",
       "      <td>LP001005</td>\n",
       "      <td>1991-03-28</td>\n",
       "      <td>6.281192e+11</td>\n",
       "      <td>0</td>\n",
       "      <td>Yes</td>\n",
       "      <td>0</td>\n",
       "      <td>0</td>\n",
       "      <td>Yes</td>\n",
       "      <td>3000.0</td>\n",
       "      <td>0.0</td>\n",
       "      <td>66000</td>\n",
       "      <td>360</td>\n",
       "      <td>30</td>\n",
       "      <td>1.0</td>\n",
       "      <td>1</td>\n",
       "      <td>1</td>\n",
       "      <td>0</td>\n",
       "      <td>1</td>\n",
       "      <td>0</td>\n",
       "      <td>1</td>\n",
       "    </tr>\n",
       "    <tr>\n",
       "      <th>3</th>\n",
       "      <td>LP001006</td>\n",
       "      <td>1980-06-02</td>\n",
       "      <td>6.285634e+10</td>\n",
       "      <td>0</td>\n",
       "      <td>Yes</td>\n",
       "      <td>0</td>\n",
       "      <td>1</td>\n",
       "      <td>No</td>\n",
       "      <td>2583.0</td>\n",
       "      <td>2358.0</td>\n",
       "      <td>120000</td>\n",
       "      <td>360</td>\n",
       "      <td>30</td>\n",
       "      <td>1.0</td>\n",
       "      <td>1</td>\n",
       "      <td>1</td>\n",
       "      <td>1</td>\n",
       "      <td>0</td>\n",
       "      <td>0</td>\n",
       "      <td>1</td>\n",
       "    </tr>\n",
       "    <tr>\n",
       "      <th>4</th>\n",
       "      <td>LP001008</td>\n",
       "      <td>1989-05-19</td>\n",
       "      <td>6.281130e+11</td>\n",
       "      <td>0</td>\n",
       "      <td>No</td>\n",
       "      <td>0</td>\n",
       "      <td>0</td>\n",
       "      <td>No</td>\n",
       "      <td>6000.0</td>\n",
       "      <td>0.0</td>\n",
       "      <td>141000</td>\n",
       "      <td>360</td>\n",
       "      <td>30</td>\n",
       "      <td>1.0</td>\n",
       "      <td>1</td>\n",
       "      <td>1</td>\n",
       "      <td>1</td>\n",
       "      <td>0</td>\n",
       "      <td>1</td>\n",
       "      <td>0</td>\n",
       "    </tr>\n",
       "  </tbody>\n",
       "</table>\n",
       "</div>"
      ],
      "text/plain": [
       "    loan_id  birth_date  phone_number  gender married  dependents  education  \\\n",
       "0  LP001002  1977-05-15  6.281142e+11       0      No           0          0   \n",
       "1  LP001003  1979-08-24  6.287764e+11       0     Yes           1          0   \n",
       "2  LP001005  1991-03-28  6.281192e+11       0     Yes           0          0   \n",
       "3  LP001006  1980-06-02  6.285634e+10       0     Yes           0          1   \n",
       "4  LP001008  1989-05-19  6.281130e+11       0      No           0          0   \n",
       "\n",
       "  self_employed  applicant_income  coapplicant_income  loan_amount  \\\n",
       "0            No            5849.0                 0.0       100000   \n",
       "1            No            4583.0              1508.0       128000   \n",
       "2           Yes            3000.0                 0.0        66000   \n",
       "3            No            2583.0              2358.0       120000   \n",
       "4            No            6000.0                 0.0       141000   \n",
       "\n",
       "   loan_term_month  loan_term_year  credit_history  property_type  \\\n",
       "0              360              30             1.0              1   \n",
       "1              360              30             1.0              2   \n",
       "2              360              30             1.0              1   \n",
       "3              360              30             1.0              1   \n",
       "4              360              30             1.0              1   \n",
       "\n",
       "   loan_status  self_employed_No  self_employed_Yes  married_No  married_Yes  \n",
       "0            1                 1                  0           1            0  \n",
       "1            0                 1                  0           0            1  \n",
       "2            1                 0                  1           0            1  \n",
       "3            1                 1                  0           0            1  \n",
       "4            1                 1                  0           1            0  "
      ]
     },
     "execution_count": 100,
     "metadata": {},
     "output_type": "execute_result"
    }
   ],
   "source": [
    "df.head()"
   ]
  },
  {
   "cell_type": "code",
   "execution_count": 101,
   "id": "wyD1AZ-qzZvt",
   "metadata": {
    "colab": {
     "base_uri": "https://localhost:8080/"
    },
    "id": "wyD1AZ-qzZvt",
    "outputId": "da0268e9-4100-4342-8d0b-83807a591483"
   },
   "outputs": [
    {
     "name": "stdout",
     "output_type": "stream",
     "text": [
      "<class 'pandas.core.frame.DataFrame'>\n",
      "Int64Index: 366 entries, 0 to 619\n",
      "Data columns (total 20 columns):\n",
      " #   Column              Non-Null Count  Dtype  \n",
      "---  ------              --------------  -----  \n",
      " 0   loan_id             366 non-null    object \n",
      " 1   birth_date          366 non-null    object \n",
      " 2   phone_number        366 non-null    float64\n",
      " 3   gender              366 non-null    int64  \n",
      " 4   married             366 non-null    object \n",
      " 5   dependents          366 non-null    int64  \n",
      " 6   education           366 non-null    int64  \n",
      " 7   self_employed       366 non-null    object \n",
      " 8   applicant_income    366 non-null    float64\n",
      " 9   coapplicant_income  366 non-null    float64\n",
      " 10  loan_amount         366 non-null    int64  \n",
      " 11  loan_term_month     366 non-null    int64  \n",
      " 12  loan_term_year      366 non-null    int64  \n",
      " 13  credit_history      366 non-null    float64\n",
      " 14  property_type       366 non-null    int64  \n",
      " 15  loan_status         366 non-null    int64  \n",
      " 16  self_employed_No    366 non-null    uint8  \n",
      " 17  self_employed_Yes   366 non-null    uint8  \n",
      " 18  married_No          366 non-null    uint8  \n",
      " 19  married_Yes         366 non-null    uint8  \n",
      "dtypes: float64(4), int64(8), object(4), uint8(4)\n",
      "memory usage: 58.1+ KB\n"
     ]
    }
   ],
   "source": [
    "# dataframe after process\n",
    "df.info()"
   ]
  },
  {
   "cell_type": "markdown",
   "id": "a7228757",
   "metadata": {
    "id": "a7228757"
   },
   "source": [
    "# Business Insight"
   ]
  },
  {
   "cell_type": "markdown",
   "id": "b890d514",
   "metadata": {
    "id": "b890d514"
   },
   "source": [
    "## Analyze Customer Interest by Property Type"
   ]
  },
  {
   "cell_type": "code",
   "execution_count": 102,
   "id": "sIMf81fO8jRJ",
   "metadata": {
    "colab": {
     "base_uri": "https://localhost:8080/",
     "height": 237
    },
    "id": "sIMf81fO8jRJ",
    "outputId": "9f9c0577-8081-4d29-d10d-39b56bcf80e6"
   },
   "outputs": [
    {
     "data": {
      "text/html": [
       "<div>\n",
       "<style scoped>\n",
       "    .dataframe tbody tr th:only-of-type {\n",
       "        vertical-align: middle;\n",
       "    }\n",
       "\n",
       "    .dataframe tbody tr th {\n",
       "        vertical-align: top;\n",
       "    }\n",
       "\n",
       "    .dataframe thead th {\n",
       "        text-align: right;\n",
       "    }\n",
       "</style>\n",
       "<table border=\"1\" class=\"dataframe\">\n",
       "  <thead>\n",
       "    <tr style=\"text-align: right;\">\n",
       "      <th></th>\n",
       "      <th>gender</th>\n",
       "      <th>property_type</th>\n",
       "      <th>0</th>\n",
       "    </tr>\n",
       "  </thead>\n",
       "  <tbody>\n",
       "    <tr>\n",
       "      <th>0</th>\n",
       "      <td>0</td>\n",
       "      <td>0</td>\n",
       "      <td>114</td>\n",
       "    </tr>\n",
       "    <tr>\n",
       "      <th>1</th>\n",
       "      <td>0</td>\n",
       "      <td>1</td>\n",
       "      <td>98</td>\n",
       "    </tr>\n",
       "    <tr>\n",
       "      <th>2</th>\n",
       "      <td>0</td>\n",
       "      <td>2</td>\n",
       "      <td>87</td>\n",
       "    </tr>\n",
       "    <tr>\n",
       "      <th>3</th>\n",
       "      <td>1</td>\n",
       "      <td>0</td>\n",
       "      <td>34</td>\n",
       "    </tr>\n",
       "    <tr>\n",
       "      <th>4</th>\n",
       "      <td>1</td>\n",
       "      <td>2</td>\n",
       "      <td>17</td>\n",
       "    </tr>\n",
       "    <tr>\n",
       "      <th>5</th>\n",
       "      <td>1</td>\n",
       "      <td>1</td>\n",
       "      <td>16</td>\n",
       "    </tr>\n",
       "  </tbody>\n",
       "</table>\n",
       "</div>"
      ],
      "text/plain": [
       "   gender  property_type    0\n",
       "0       0              0  114\n",
       "1       0              1   98\n",
       "2       0              2   87\n",
       "3       1              0   34\n",
       "4       1              2   17\n",
       "5       1              1   16"
      ]
     },
     "execution_count": 102,
     "metadata": {},
     "output_type": "execute_result"
    }
   ],
   "source": [
    "df_alz1= df[['gender', 'property_type']].value_counts().to_frame().reset_index()\n",
    "df_alz1"
   ]
  },
  {
   "cell_type": "code",
   "execution_count": 113,
   "id": "d35d0596-69c5-4f47-a497-782894ac3dbd",
   "metadata": {},
   "outputs": [
    {
     "data": {
      "image/png": "[encoded data removed]",
      "text/plain": [
       "<Figure size 864x576 with 1 Axes>"
      ]
     },
     "metadata": {},
     "output_type": "display_data"
    }
   ],
   "source": [
    "# Data Visualization\n",
    "\n",
    "sns.set(style=\"darkgrid\")\n",
    "f, ax = plt.subplots(1,1,figsize=(12,8))\n",
    "sns.countplot(x = 'property_type', data = df, hue = 'gender', palette = \"Set1\")\n",
    "\n",
    "for bar in ax.patches:\n",
    "    bar_value = bar.get_height()\n",
    "    text = f'{bar_value:,}'\n",
    "    text_x = bar.get_x() + bar.get_width() / 2\n",
    "    text_y = bar.get_y() + bar_value\n",
    "    bar_color = bar.get_facecolor()\n",
    "    ax.text(text_x, text_y, text, ha='center', va='bottom', color='black', size=12)\n",
    "\n",
    "# Legend\n",
    "plt.legend(['Male', 'Female'], title = 'Gender')\n",
    "\n",
    "# Change axis X label\n",
    "x = [0, 1, 2]\n",
    "labels = ['Apartment', 'House', 'Studio']\n",
    "plt.xticks(x, labels)\n",
    "    \n",
    "ax.set_xlabel('Property Type', labelpad=15)\n",
    "ax.set_ylabel('Count', labelpad=15)\n",
    "ax.set_title('Apartment is the most popular property type \\nfor both male and female customers', pad=15, size=20)\n",
    "plt.tight_layout() \n",
    "plt.savefig('Analyze_the_behavior_of_loan_property_customers_01.png', dpi=200)\n",
    "\n",
    "\n"
   ]
  },
  {
   "cell_type": "markdown",
   "id": "c43363d1",
   "metadata": {
    "id": "c43363d1"
   },
   "source": [
    "## Analyze the effect of marital status on the time loan period"
   ]
  },
  {
   "cell_type": "code",
   "execution_count": 115,
   "id": "tNP-gWi5BQR_",
   "metadata": {
    "colab": {
     "base_uri": "https://localhost:8080/"
    },
    "id": "tNP-gWi5BQR_",
    "outputId": "69ead7c9-f75c-4d52-de3b-c59a33bb3584"
   },
   "outputs": [
    {
     "data": {
      "text/html": [
       "<div>\n",
       "<style scoped>\n",
       "    .dataframe tbody tr th:only-of-type {\n",
       "        vertical-align: middle;\n",
       "    }\n",
       "\n",
       "    .dataframe tbody tr th {\n",
       "        vertical-align: top;\n",
       "    }\n",
       "\n",
       "    .dataframe thead th {\n",
       "        text-align: right;\n",
       "    }\n",
       "</style>\n",
       "<table border=\"1\" class=\"dataframe\">\n",
       "  <thead>\n",
       "    <tr style=\"text-align: right;\">\n",
       "      <th></th>\n",
       "      <th>married</th>\n",
       "      <th>loan_term_year</th>\n",
       "      <th>number_of_applicant</th>\n",
       "    </tr>\n",
       "  </thead>\n",
       "  <tbody>\n",
       "    <tr>\n",
       "      <th>0</th>\n",
       "      <td>No</td>\n",
       "      <td>3</td>\n",
       "      <td>2</td>\n",
       "    </tr>\n",
       "    <tr>\n",
       "      <th>1</th>\n",
       "      <td>No</td>\n",
       "      <td>5</td>\n",
       "      <td>1</td>\n",
       "    </tr>\n",
       "    <tr>\n",
       "      <th>2</th>\n",
       "      <td>No</td>\n",
       "      <td>10</td>\n",
       "      <td>1</td>\n",
       "    </tr>\n",
       "    <tr>\n",
       "      <th>3</th>\n",
       "      <td>No</td>\n",
       "      <td>15</td>\n",
       "      <td>4</td>\n",
       "    </tr>\n",
       "    <tr>\n",
       "      <th>4</th>\n",
       "      <td>No</td>\n",
       "      <td>25</td>\n",
       "      <td>3</td>\n",
       "    </tr>\n",
       "    <tr>\n",
       "      <th>5</th>\n",
       "      <td>No</td>\n",
       "      <td>30</td>\n",
       "      <td>119</td>\n",
       "    </tr>\n",
       "    <tr>\n",
       "      <th>6</th>\n",
       "      <td>No</td>\n",
       "      <td>40</td>\n",
       "      <td>6</td>\n",
       "    </tr>\n",
       "    <tr>\n",
       "      <th>7</th>\n",
       "      <td>Yes</td>\n",
       "      <td>5</td>\n",
       "      <td>1</td>\n",
       "    </tr>\n",
       "    <tr>\n",
       "      <th>8</th>\n",
       "      <td>Yes</td>\n",
       "      <td>7</td>\n",
       "      <td>3</td>\n",
       "    </tr>\n",
       "    <tr>\n",
       "      <th>9</th>\n",
       "      <td>Yes</td>\n",
       "      <td>10</td>\n",
       "      <td>1</td>\n",
       "    </tr>\n",
       "    <tr>\n",
       "      <th>10</th>\n",
       "      <td>Yes</td>\n",
       "      <td>15</td>\n",
       "      <td>22</td>\n",
       "    </tr>\n",
       "    <tr>\n",
       "      <th>11</th>\n",
       "      <td>Yes</td>\n",
       "      <td>20</td>\n",
       "      <td>2</td>\n",
       "    </tr>\n",
       "    <tr>\n",
       "      <th>12</th>\n",
       "      <td>Yes</td>\n",
       "      <td>25</td>\n",
       "      <td>5</td>\n",
       "    </tr>\n",
       "    <tr>\n",
       "      <th>13</th>\n",
       "      <td>Yes</td>\n",
       "      <td>30</td>\n",
       "      <td>191</td>\n",
       "    </tr>\n",
       "    <tr>\n",
       "      <th>14</th>\n",
       "      <td>Yes</td>\n",
       "      <td>40</td>\n",
       "      <td>5</td>\n",
       "    </tr>\n",
       "  </tbody>\n",
       "</table>\n",
       "</div>"
      ],
      "text/plain": [
       "   married  loan_term_year  number_of_applicant\n",
       "0       No               3                    2\n",
       "1       No               5                    1\n",
       "2       No              10                    1\n",
       "3       No              15                    4\n",
       "4       No              25                    3\n",
       "5       No              30                  119\n",
       "6       No              40                    6\n",
       "7      Yes               5                    1\n",
       "8      Yes               7                    3\n",
       "9      Yes              10                    1\n",
       "10     Yes              15                   22\n",
       "11     Yes              20                    2\n",
       "12     Yes              25                    5\n",
       "13     Yes              30                  191\n",
       "14     Yes              40                    5"
      ]
     },
     "execution_count": 115,
     "metadata": {},
     "output_type": "execute_result"
    }
   ],
   "source": [
    "df_alz2 = df.groupby(['married', 'loan_term_year'])['loan_id'].count().reset_index()\n",
    "df_alz2.columns = ['married', 'loan_term_year', 'number_of_applicant']\n",
    "df_alz2"
   ]
  },
  {
   "cell_type": "markdown",
   "id": "3fba4788-8b0a-47e1-b0ff-c66d088ced61",
   "metadata": {},
   "source": [
    "The data above shows categorical differences in the length of loan data. Therefore, it's necessary to grouping to make the category length of time loan is uniform between married and unmarried customers, so that we can first see the distribution of the data."
   ]
  },
  {
   "cell_type": "code",
   "execution_count": 119,
   "id": "qlG1QXeiCzCl",
   "metadata": {
    "colab": {
     "base_uri": "https://localhost:8080/"
    },
    "id": "qlG1QXeiCzCl",
    "outputId": "e8c90ac0-1c5b-4117-bd65-a44c24ac1da0"
   },
   "outputs": [
    {
     "data": {
      "text/plain": [
       "<AxesSubplot:xlabel='loan_term_year', ylabel='Count'>"
      ]
     },
     "execution_count": 119,
     "metadata": {},
     "output_type": "execute_result"
    },
    {
     "data": {
      "image/png": "[encoded data removed]",
      "text/plain": [
       "<Figure size 432x288 with 1 Axes>"
      ]
     },
     "metadata": {},
     "output_type": "display_data"
    }
   ],
   "source": [
    "sns.histplot(data=df, x=\"loan_term_year\", bins=10, color=\"green\")"
   ]
  },
  {
   "cell_type": "markdown",
   "id": "35df05c3-5e5a-4418-9f03-00051d2b431b",
   "metadata": {},
   "source": [
    "According to the graphic, data is grouped into (years): <15, 15 - 25, 30, >30"
   ]
  },
  {
   "cell_type": "code",
   "execution_count": 126,
   "id": "d94fa06d-9ed6-404a-ae82-a5dd326756d7",
   "metadata": {},
   "outputs": [],
   "source": [
    "# made the categoryy loan_term_year\n",
    "loan_term_year_group = {}\n",
    "for i in range(1,41):\n",
    "    if i<15:\n",
    "        loan_term_year_group[i]= '<15'\n",
    "    elif i>=15 and i<=25:\n",
    "        loan_term_year_group[i]= '15-25'\n",
    "    elif i==30:\n",
    "        loan_term_year_group[i]= '30'\n",
    "    elif i>30:\n",
    "        loan_term_year_group[i]= '>30'\n",
    "    else:\n",
    "        pass\n",
    "    \n",
    "# made the new colomn base on group before\n",
    "df_alz2['loan_term_year_group'] = df_alz2['loan_term_year'].replace(loan_term_year_group)"
   ]
  },
  {
   "cell_type": "code",
   "execution_count": 127,
   "id": "eb0b0cbd-da5d-4eb5-972f-a8cf9603be8b",
   "metadata": {},
   "outputs": [
    {
     "data": {
      "text/plain": [
       "Text(-0.5, 205, 'Most applicants who are married or not have chosen a loan term of 30 years')"
      ]
     },
     "execution_count": 127,
     "metadata": {},
     "output_type": "execute_result"
    },
    {
     "data": {
      "image/png": "[encoded data removed]",
      "text/plain": [
       "<Figure size 1080x720 with 1 Axes>"
      ]
     },
     "metadata": {},
     "output_type": "display_data"
    }
   ],
   "source": [
    "plt.figure(figsize=(15,10))\n",
    "sns.barplot(x='loan_term_year_group', y='number_of_applicant', hue='married', data=df_alz2)\n",
    "\n",
    "plt.tick_params(axis='both', which='major', labelsize=12)\n",
    "plt.grid()\n",
    "plt.legend(title='Married Status', title_fontsize=14, prop={'size':12}, loc=9)\n",
    "\n",
    "plt.xlabel('Loan Term Group (in Year)', fontsize=14)\n",
    "plt.ylabel('Number of Applicant', fontsize=14)\n",
    "plt.text(x=-0.5, y=205, s=\"Most applicants who are married or not have chosen a loan term of 30 years\", \n",
    "         fontsize=20, fontweight='bold') "
   ]
  },
  {
   "cell_type": "markdown",
   "id": "2cf98df5-8eab-4909-adbf-1ec1bdf495e1",
   "metadata": {},
   "source": [
    "According to the observation, all customers interested to offers for apartment. When viewed from the marital status, customers who are married or unmarried feel that the ideal loan period is 30 years. On the other hand, married customers choose a loan period of 15 - 25 years because both of them have income."
   ]
  },
  {
   "cell_type": "markdown",
   "id": "ZEMfqA4tDVOw",
   "metadata": {
    "id": "ZEMfqA4tDVOw",
    "tags": []
   },
   "source": [
    "# Conclussion\n",
    "\n",
    "The single customers who have an average loan term longer than married customers\n"
   ]
  }
 ],
 "metadata": {
  "colab": {
   "name": "Stella_Indranawaski .ipynb",
   "provenance": []
  },
  "kernelspec": {
   "display_name": "Python 3 (ipykernel)",
   "language": "python",
   "name": "python3"
  },
  "language_info": {
   "codemirror_mode": {
    "name": "ipython",
    "version": 3
   },
   "file_extension": ".py",
   "mimetype": "text/x-python",
   "name": "python",
   "nbconvert_exporter": "python",
   "pygments_lexer": "ipython3",
   "version": "3.10.2"
  }
 },
 "nbformat": 4,
 "nbformat_minor": 5
}
